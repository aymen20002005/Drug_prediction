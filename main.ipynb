{
  "cells": [
    {
      "cell_type": "markdown",
      "metadata": {
        "id": "spYtqYioP-zv"
      },
      "source": [
        "## 1.IMPORTING LIBRARIES\n",
        "\n",
        "    *Numpy for linear algebra and data manipulation.\n",
        "    *Matplotlib for visualising data.\n",
        "    *Pandas for loading and analyzing data.\n",
        "    *Sklearn for normalizing the data and creating the model."
      ]
    },
    {
      "cell_type": "code",
      "execution_count": 70,
      "metadata": {
        "id": "xFOxU_osP-zz"
      },
      "outputs": [],
      "source": [
        "import numpy as np\n",
        "import sklearn\n",
        "import sklearn.preprocessing\n",
        "import sklearn.model_selection\n",
        "import sklearn.tree\n",
        "import pandas as pd\n",
        "import matplotlib.pyplot as plt\n",
        "from sklearn.preprocessing import LabelEncoder"
      ]
    },
    {
      "cell_type": "markdown",
      "metadata": {
        "id": "6DyNS2XKP-z1"
      },
      "source": [
        "## 2.LOADING AND ANALYZING THE DATA\n",
        "\n",
        "    *Loading the drug_dataset.csv dataset.\n",
        "    *The dataset is composed of attributes of patients and different medications.\n",
        "    *Analyzing the data using pandas."
      ]
    },
    {
      "cell_type": "code",
      "execution_count": 71,
      "metadata": {
        "colab": {
          "base_uri": "https://localhost:8080/",
          "height": 293
        },
        "id": "v_SQj8OvP-z1",
        "outputId": "931d6fc7-2a8a-4b3c-9534-eb952f979aab"
      },
      "outputs": [
        {
          "output_type": "stream",
          "name": "stdout",
          "text": [
            "['Ibuprofen' 'None' 'Ibuprofen Naproxen' 'Lisinopril Simvastatin'\n",
            " 'Aspirin Ibuprofen Naproxen' 'NSAIDs' 'Warfarin Ibuprofen'\n",
            " 'Digoxin Naproxen' 'Methotrexate Aspirin' 'Dipyridamole Celecoxib'\n",
            " 'Diclofenac Dipyridamole' 'Naproxen Ticlopidine' 'Aspirin Warfarin'\n",
            " 'Ibuprofen Celecoxib']\n"
          ]
        },
        {
          "output_type": "execute_result",
          "data": {
            "text/plain": [
              "   Age Sex      BP Cholesterol  Na_to_K Drugs_Taken        Prohibited_Drugs\n",
              "0   35   M    HIGH        HIGH      2.5     Aspirin               Ibuprofen\n",
              "1   52   F  NORMAL        HIGH      3.2  Lisinopril                    None\n",
              "2   45   M     LOW      NORMAL      2.9        None      Ibuprofen Naproxen\n",
              "3   68   F    HIGH        HIGH      2.1     Aspirin                    None\n",
              "4   30   M  NORMAL      NORMAL      3.8    Naproxen  Lisinopril Simvastatin"
            ],
            "text/html": [
              "\n",
              "  <div id=\"df-2d8a2a9b-17b1-47b2-8508-8f41a8de792d\">\n",
              "    <div class=\"colab-df-container\">\n",
              "      <div>\n",
              "<style scoped>\n",
              "    .dataframe tbody tr th:only-of-type {\n",
              "        vertical-align: middle;\n",
              "    }\n",
              "\n",
              "    .dataframe tbody tr th {\n",
              "        vertical-align: top;\n",
              "    }\n",
              "\n",
              "    .dataframe thead th {\n",
              "        text-align: right;\n",
              "    }\n",
              "</style>\n",
              "<table border=\"1\" class=\"dataframe\">\n",
              "  <thead>\n",
              "    <tr style=\"text-align: right;\">\n",
              "      <th></th>\n",
              "      <th>Age</th>\n",
              "      <th>Sex</th>\n",
              "      <th>BP</th>\n",
              "      <th>Cholesterol</th>\n",
              "      <th>Na_to_K</th>\n",
              "      <th>Drugs_Taken</th>\n",
              "      <th>Prohibited_Drugs</th>\n",
              "    </tr>\n",
              "  </thead>\n",
              "  <tbody>\n",
              "    <tr>\n",
              "      <th>0</th>\n",
              "      <td>35</td>\n",
              "      <td>M</td>\n",
              "      <td>HIGH</td>\n",
              "      <td>HIGH</td>\n",
              "      <td>2.5</td>\n",
              "      <td>Aspirin</td>\n",
              "      <td>Ibuprofen</td>\n",
              "    </tr>\n",
              "    <tr>\n",
              "      <th>1</th>\n",
              "      <td>52</td>\n",
              "      <td>F</td>\n",
              "      <td>NORMAL</td>\n",
              "      <td>HIGH</td>\n",
              "      <td>3.2</td>\n",
              "      <td>Lisinopril</td>\n",
              "      <td>None</td>\n",
              "    </tr>\n",
              "    <tr>\n",
              "      <th>2</th>\n",
              "      <td>45</td>\n",
              "      <td>M</td>\n",
              "      <td>LOW</td>\n",
              "      <td>NORMAL</td>\n",
              "      <td>2.9</td>\n",
              "      <td>None</td>\n",
              "      <td>Ibuprofen Naproxen</td>\n",
              "    </tr>\n",
              "    <tr>\n",
              "      <th>3</th>\n",
              "      <td>68</td>\n",
              "      <td>F</td>\n",
              "      <td>HIGH</td>\n",
              "      <td>HIGH</td>\n",
              "      <td>2.1</td>\n",
              "      <td>Aspirin</td>\n",
              "      <td>None</td>\n",
              "    </tr>\n",
              "    <tr>\n",
              "      <th>4</th>\n",
              "      <td>30</td>\n",
              "      <td>M</td>\n",
              "      <td>NORMAL</td>\n",
              "      <td>NORMAL</td>\n",
              "      <td>3.8</td>\n",
              "      <td>Naproxen</td>\n",
              "      <td>Lisinopril Simvastatin</td>\n",
              "    </tr>\n",
              "  </tbody>\n",
              "</table>\n",
              "</div>\n",
              "      <button class=\"colab-df-convert\" onclick=\"convertToInteractive('df-2d8a2a9b-17b1-47b2-8508-8f41a8de792d')\"\n",
              "              title=\"Convert this dataframe to an interactive table.\"\n",
              "              style=\"display:none;\">\n",
              "        \n",
              "  <svg xmlns=\"http://www.w3.org/2000/svg\" height=\"24px\"viewBox=\"0 0 24 24\"\n",
              "       width=\"24px\">\n",
              "    <path d=\"M0 0h24v24H0V0z\" fill=\"none\"/>\n",
              "    <path d=\"M18.56 5.44l.94 2.06.94-2.06 2.06-.94-2.06-.94-.94-2.06-.94 2.06-2.06.94zm-11 1L8.5 8.5l.94-2.06 2.06-.94-2.06-.94L8.5 2.5l-.94 2.06-2.06.94zm10 10l.94 2.06.94-2.06 2.06-.94-2.06-.94-.94-2.06-.94 2.06-2.06.94z\"/><path d=\"M17.41 7.96l-1.37-1.37c-.4-.4-.92-.59-1.43-.59-.52 0-1.04.2-1.43.59L10.3 9.45l-7.72 7.72c-.78.78-.78 2.05 0 2.83L4 21.41c.39.39.9.59 1.41.59.51 0 1.02-.2 1.41-.59l7.78-7.78 2.81-2.81c.8-.78.8-2.07 0-2.86zM5.41 20L4 18.59l7.72-7.72 1.47 1.35L5.41 20z\"/>\n",
              "  </svg>\n",
              "      </button>\n",
              "      \n",
              "  <style>\n",
              "    .colab-df-container {\n",
              "      display:flex;\n",
              "      flex-wrap:wrap;\n",
              "      gap: 12px;\n",
              "    }\n",
              "\n",
              "    .colab-df-convert {\n",
              "      background-color: #E8F0FE;\n",
              "      border: none;\n",
              "      border-radius: 50%;\n",
              "      cursor: pointer;\n",
              "      display: none;\n",
              "      fill: #1967D2;\n",
              "      height: 32px;\n",
              "      padding: 0 0 0 0;\n",
              "      width: 32px;\n",
              "    }\n",
              "\n",
              "    .colab-df-convert:hover {\n",
              "      background-color: #E2EBFA;\n",
              "      box-shadow: 0px 1px 2px rgba(60, 64, 67, 0.3), 0px 1px 3px 1px rgba(60, 64, 67, 0.15);\n",
              "      fill: #174EA6;\n",
              "    }\n",
              "\n",
              "    [theme=dark] .colab-df-convert {\n",
              "      background-color: #3B4455;\n",
              "      fill: #D2E3FC;\n",
              "    }\n",
              "\n",
              "    [theme=dark] .colab-df-convert:hover {\n",
              "      background-color: #434B5C;\n",
              "      box-shadow: 0px 1px 3px 1px rgba(0, 0, 0, 0.15);\n",
              "      filter: drop-shadow(0px 1px 2px rgba(0, 0, 0, 0.3));\n",
              "      fill: #FFFFFF;\n",
              "    }\n",
              "  </style>\n",
              "\n",
              "      <script>\n",
              "        const buttonEl =\n",
              "          document.querySelector('#df-2d8a2a9b-17b1-47b2-8508-8f41a8de792d button.colab-df-convert');\n",
              "        buttonEl.style.display =\n",
              "          google.colab.kernel.accessAllowed ? 'block' : 'none';\n",
              "\n",
              "        async function convertToInteractive(key) {\n",
              "          const element = document.querySelector('#df-2d8a2a9b-17b1-47b2-8508-8f41a8de792d');\n",
              "          const dataTable =\n",
              "            await google.colab.kernel.invokeFunction('convertToInteractive',\n",
              "                                                     [key], {});\n",
              "          if (!dataTable) return;\n",
              "\n",
              "          const docLinkHtml = 'Like what you see? Visit the ' +\n",
              "            '<a target=\"_blank\" href=https://colab.research.google.com/notebooks/data_table.ipynb>data table notebook</a>'\n",
              "            + ' to learn more about interactive tables.';\n",
              "          element.innerHTML = '';\n",
              "          dataTable['output_type'] = 'display_data';\n",
              "          await google.colab.output.renderOutput(dataTable, element);\n",
              "          const docLink = document.createElement('div');\n",
              "          docLink.innerHTML = docLinkHtml;\n",
              "          element.appendChild(docLink);\n",
              "        }\n",
              "      </script>\n",
              "    </div>\n",
              "  </div>\n",
              "  "
            ]
          },
          "metadata": {},
          "execution_count": 71
        }
      ],
      "source": [
        "df = pd.read_csv(\"drug_dataset.csv\")\n",
        "unique_prohibited_drugs = df[\"Prohibited_Drugs\"].unique()\n",
        "\n",
        "print(unique_prohibited_drugs)\n",
        "df.head()"
      ]
    },
    {
      "cell_type": "code",
      "execution_count": 72,
      "metadata": {
        "colab": {
          "base_uri": "https://localhost:8080/"
        },
        "id": "JqOidfH0P-z2",
        "outputId": "651cb3f8-acfb-4c6f-c773-3160d69b7be9"
      },
      "outputs": [
        {
          "output_type": "stream",
          "name": "stdout",
          "text": [
            "The dataset consists of 33 patients and 7 features.\n"
          ]
        }
      ],
      "source": [
        "print(\"The dataset consists of {} patients and {} features.\".format(df.shape[0], df.shape[1]))"
      ]
    },
    {
      "cell_type": "code",
      "source": [
        "# Import the required libraries\n",
        "import pandas as pd\n",
        "from sklearn.preprocessing import LabelEncoder\n",
        "from sklearn.tree import DecisionTreeClassifier\n",
        "\n",
        "# Load the dataset\n",
        "df = pd.read_csv(\"drug_dataset.csv\")\n",
        "\n",
        "# Split the dataset into features and target variable\n",
        "X = df.drop([\"Prohibited_Drugs\"], axis=1)\n",
        "y = df[\"Prohibited_Drugs\"]\n",
        "\n",
        "# Encode categorical features\n",
        "cat_features = [\"Sex\", \"BP\", \"Cholesterol\", \"Drugs_Taken\"]\n",
        "for feature in cat_features:\n",
        "    le = LabelEncoder()\n",
        "    X[feature] = le.fit_transform(X[feature])\n",
        "\n",
        "# Train the decision tree model\n",
        "model = DecisionTreeClassifier(criterion=\"entropy\", max_depth=4)\n",
        "model.fit(X, y)\n"
      ],
      "metadata": {
        "colab": {
          "base_uri": "https://localhost:8080/",
          "height": 75
        },
        "id": "jzmcsKB0CYlB",
        "outputId": "6e8439c6-93fb-474a-97c4-c23ac6cb12e9"
      },
      "execution_count": 73,
      "outputs": [
        {
          "output_type": "execute_result",
          "data": {
            "text/plain": [
              "DecisionTreeClassifier(criterion='entropy', max_depth=4)"
            ],
            "text/html": [
              "<style>#sk-container-id-4 {color: black;background-color: white;}#sk-container-id-4 pre{padding: 0;}#sk-container-id-4 div.sk-toggleable {background-color: white;}#sk-container-id-4 label.sk-toggleable__label {cursor: pointer;display: block;width: 100%;margin-bottom: 0;padding: 0.3em;box-sizing: border-box;text-align: center;}#sk-container-id-4 label.sk-toggleable__label-arrow:before {content: \"▸\";float: left;margin-right: 0.25em;color: #696969;}#sk-container-id-4 label.sk-toggleable__label-arrow:hover:before {color: black;}#sk-container-id-4 div.sk-estimator:hover label.sk-toggleable__label-arrow:before {color: black;}#sk-container-id-4 div.sk-toggleable__content {max-height: 0;max-width: 0;overflow: hidden;text-align: left;background-color: #f0f8ff;}#sk-container-id-4 div.sk-toggleable__content pre {margin: 0.2em;color: black;border-radius: 0.25em;background-color: #f0f8ff;}#sk-container-id-4 input.sk-toggleable__control:checked~div.sk-toggleable__content {max-height: 200px;max-width: 100%;overflow: auto;}#sk-container-id-4 input.sk-toggleable__control:checked~label.sk-toggleable__label-arrow:before {content: \"▾\";}#sk-container-id-4 div.sk-estimator input.sk-toggleable__control:checked~label.sk-toggleable__label {background-color: #d4ebff;}#sk-container-id-4 div.sk-label input.sk-toggleable__control:checked~label.sk-toggleable__label {background-color: #d4ebff;}#sk-container-id-4 input.sk-hidden--visually {border: 0;clip: rect(1px 1px 1px 1px);clip: rect(1px, 1px, 1px, 1px);height: 1px;margin: -1px;overflow: hidden;padding: 0;position: absolute;width: 1px;}#sk-container-id-4 div.sk-estimator {font-family: monospace;background-color: #f0f8ff;border: 1px dotted black;border-radius: 0.25em;box-sizing: border-box;margin-bottom: 0.5em;}#sk-container-id-4 div.sk-estimator:hover {background-color: #d4ebff;}#sk-container-id-4 div.sk-parallel-item::after {content: \"\";width: 100%;border-bottom: 1px solid gray;flex-grow: 1;}#sk-container-id-4 div.sk-label:hover label.sk-toggleable__label {background-color: #d4ebff;}#sk-container-id-4 div.sk-serial::before {content: \"\";position: absolute;border-left: 1px solid gray;box-sizing: border-box;top: 0;bottom: 0;left: 50%;z-index: 0;}#sk-container-id-4 div.sk-serial {display: flex;flex-direction: column;align-items: center;background-color: white;padding-right: 0.2em;padding-left: 0.2em;position: relative;}#sk-container-id-4 div.sk-item {position: relative;z-index: 1;}#sk-container-id-4 div.sk-parallel {display: flex;align-items: stretch;justify-content: center;background-color: white;position: relative;}#sk-container-id-4 div.sk-item::before, #sk-container-id-4 div.sk-parallel-item::before {content: \"\";position: absolute;border-left: 1px solid gray;box-sizing: border-box;top: 0;bottom: 0;left: 50%;z-index: -1;}#sk-container-id-4 div.sk-parallel-item {display: flex;flex-direction: column;z-index: 1;position: relative;background-color: white;}#sk-container-id-4 div.sk-parallel-item:first-child::after {align-self: flex-end;width: 50%;}#sk-container-id-4 div.sk-parallel-item:last-child::after {align-self: flex-start;width: 50%;}#sk-container-id-4 div.sk-parallel-item:only-child::after {width: 0;}#sk-container-id-4 div.sk-dashed-wrapped {border: 1px dashed gray;margin: 0 0.4em 0.5em 0.4em;box-sizing: border-box;padding-bottom: 0.4em;background-color: white;}#sk-container-id-4 div.sk-label label {font-family: monospace;font-weight: bold;display: inline-block;line-height: 1.2em;}#sk-container-id-4 div.sk-label-container {text-align: center;}#sk-container-id-4 div.sk-container {/* jupyter's `normalize.less` sets `[hidden] { display: none; }` but bootstrap.min.css set `[hidden] { display: none !important; }` so we also need the `!important` here to be able to override the default hidden behavior on the sphinx rendered scikit-learn.org. See: https://github.com/scikit-learn/scikit-learn/issues/21755 */display: inline-block !important;position: relative;}#sk-container-id-4 div.sk-text-repr-fallback {display: none;}</style><div id=\"sk-container-id-4\" class=\"sk-top-container\"><div class=\"sk-text-repr-fallback\"><pre>DecisionTreeClassifier(criterion=&#x27;entropy&#x27;, max_depth=4)</pre><b>In a Jupyter environment, please rerun this cell to show the HTML representation or trust the notebook. <br />On GitHub, the HTML representation is unable to render, please try loading this page with nbviewer.org.</b></div><div class=\"sk-container\" hidden><div class=\"sk-item\"><div class=\"sk-estimator sk-toggleable\"><input class=\"sk-toggleable__control sk-hidden--visually\" id=\"sk-estimator-id-4\" type=\"checkbox\" checked><label for=\"sk-estimator-id-4\" class=\"sk-toggleable__label sk-toggleable__label-arrow\">DecisionTreeClassifier</label><div class=\"sk-toggleable__content\"><pre>DecisionTreeClassifier(criterion=&#x27;entropy&#x27;, max_depth=4)</pre></div></div></div></div></div>"
            ]
          },
          "metadata": {},
          "execution_count": 73
        }
      ]
    },
    {
      "cell_type": "markdown",
      "metadata": {
        "id": "WEQ9HLsrP-z3"
      },
      "source": [
        "Let's create independent and dependent variable matrices."
      ]
    },
    {
      "cell_type": "code",
      "execution_count": 104,
      "metadata": {
        "colab": {
          "base_uri": "https://localhost:8080/"
        },
        "id": "MEahT49bP-z3",
        "outputId": "f2375b6f-89b4-4e92-8f43-2d3c6f8ac711"
      },
      "outputs": [
        {
          "output_type": "stream",
          "name": "stdout",
          "text": [
            "Independent variable matrix:\n",
            "[[35 'M' 'HIGH' 'HIGH' 2.5 'Aspirin']\n",
            " [52 'F' 'NORMAL' 'HIGH' 3.2 'Lisinopril']\n",
            " [45 'M' 'LOW' 'NORMAL' 2.9 'None']]\n",
            "\n",
            " Dependent variable matrix:\n",
            "['Ibuprofen' 'None' 'Ibuprofen Naproxen']\n"
          ]
        }
      ],
      "source": [
        "X = df[[\"Age\", \"Sex\", \"BP\", \"Cholesterol\", \"Na_to_K\" , \"Drugs_Taken\" ]].values\n",
        "y = df[\"Prohibited_Drugs\"].values\n",
        "\n",
        "print(\"Independent variable matrix:\\n{}\\n\\n Dependent variable matrix:\\n{}\".format(X[:3], y[:3]))"
      ]
    },
    {
      "cell_type": "markdown",
      "metadata": {
        "id": "by5828s4P-z3"
      },
      "source": [
        "Since there are non-numerical values, we must convert them before training the model with them."
      ]
    },
    {
      "cell_type": "code",
      "execution_count": 105,
      "metadata": {
        "colab": {
          "base_uri": "https://localhost:8080/"
        },
        "id": "480l5Pm9P-z4",
        "outputId": "52172020-e5c0-4845-809e-545972d6ad80"
      },
      "outputs": [
        {
          "output_type": "stream",
          "name": "stdout",
          "text": [
            "Non-numerical columns: ['F' 'NORMAL' 'HIGH']\n",
            "\n",
            "Transformed dataset:\n",
            "[[35 1 0 0 2.5 1]\n",
            " [52 0 2 0 3.2 7]\n",
            " [45 1 1 1 2.9 13]]\n"
          ]
        }
      ],
      "source": [
        "print(\"Non-numerical columns: {}\\n\".format(X[1][1:4]))\n",
        "\n",
        "#For second column:\n",
        "converter = sklearn.preprocessing.LabelEncoder()\n",
        "converter.fit(['F', 'M'])\n",
        "X[:,1] = converter.transform(X[:,1])\n",
        "\n",
        "converter = sklearn.preprocessing.LabelEncoder()\n",
        "converter.fit([\"LOW\", \"NORMAL\", \"HIGH\"])\n",
        "X[:,2] = converter.transform(X[:,2])\n",
        "\n",
        "converter = sklearn.preprocessing.LabelEncoder()\n",
        "converter.fit([\"NORMAL\", \"HIGH\"])\n",
        "X[:,3] = converter.transform(X[:,3])\n",
        "\n",
        "converter = sklearn.preprocessing.LabelEncoder()\n",
        "converter.fit(['Aspirin', 'Hydrochlorothiazide','Lisinopril', 'Atorvastatin', 'Naproxen', 'None', 'Amlodipine','Losartan', 'Valsartan', 'Metoprolol', 'Carvedilol', 'Nifedipine', 'Simvastatin', 'Lovastatin', 'Rosuvastatin','Pravastatin', 'Ezetimibe', 'Fluvastatin'])\n",
        "X[:,5] = converter.transform(X[:,5])\n",
        "print(\"Transformed dataset:\\n{}\".format(X[:3]))"
      ]
    },
    {
      "cell_type": "markdown",
      "metadata": {
        "id": "Op853Xa1P-z4"
      },
      "source": [
        "## 3.PREPARING AND SPLITTING DATA\n",
        "\n",
        "    *Converting type of the data\n",
        "    *Normalizing the data\n",
        "    *Splitting train and test sets."
      ]
    },
    {
      "cell_type": "code",
      "execution_count": 106,
      "metadata": {
        "colab": {
          "base_uri": "https://localhost:8080/"
        },
        "id": "sBYlBKvnP-z5",
        "outputId": "eefe6c28-1d5d-4e8d-a2d5-a618fd6f6ca8"
      },
      "outputs": [
        {
          "output_type": "stream",
          "name": "stdout",
          "text": [
            "Training data consists of 24 patients having 6 features.\n",
            "Test data consists of 9 patients having 5 features.\n"
          ]
        }
      ],
      "source": [
        "training_X, test_X, training_y, test_y = sklearn.model_selection.train_test_split(X, y, test_size=0.25)\n",
        "\n",
        "print(\"Training data consists of {} patients having {} features.\".format(training_X.shape[0], training_X.shape[1]))\n",
        "print(\"Test data consists of {} patients having 5 features.\".format(test_X.shape[0]))"
      ]
    },
    {
      "cell_type": "markdown",
      "metadata": {
        "id": "f_QEgdU8P-z5"
      },
      "source": [
        "## 4.CREATING and EVALUATING the MODEL\n",
        "\n",
        "    *Creating the model using sklearn.\n",
        "    *Decision tree algorithm is used for picking the most appropriate features and mapping them to the drugs.\n",
        "    *Evaluating with accuracy metric. Accuracy is 100%.\n",
        "    *Plotting the tree."
      ]
    },
    {
      "cell_type": "code",
      "execution_count": 107,
      "metadata": {
        "colab": {
          "base_uri": "https://localhost:8080/"
        },
        "id": "wOHWkTFhP-z6",
        "outputId": "1e1a8618-ecc6-4e79-d501-3e6ee7c5afd3"
      },
      "outputs": [
        {
          "output_type": "stream",
          "name": "stdout",
          "text": [
            "Real labels: ['Methotrexate Aspirin' 'Aspirin Ibuprofen Naproxen' 'None' 'Ibuprofen'\n",
            " 'Digoxin Naproxen']\n",
            "Predicted labels: ['Ibuprofen Naproxen' 'Aspirin Ibuprofen Naproxen' 'None'\n",
            " 'Ibuprofen Celecoxib' 'Digoxin Naproxen']\n"
          ]
        }
      ],
      "source": [
        "model = sklearn.tree.DecisionTreeClassifier(criterion=\"entropy\", max_depth=4)\n",
        "model.fit(training_X, training_y)\n",
        "\n",
        "predictions = model.predict(test_X)\n",
        "\n",
        "#Let's see if our predictions are true:\n",
        "print(\"Real labels: {}\\nPredicted labels: {}\".format(test_y[:5], predictions[:5]))"
      ]
    },
    {
      "cell_type": "markdown",
      "metadata": {
        "id": "bai03gPaP-z6"
      },
      "source": [
        "The first five predictions turn out to be true. We can find its accuracy with a line of code."
      ]
    },
    {
      "cell_type": "code",
      "execution_count": 108,
      "metadata": {
        "colab": {
          "base_uri": "https://localhost:8080/"
        },
        "id": "KanpRHwBP-z6",
        "outputId": "3c45cf32-9429-4c02-c63b-ebf1a085c26d"
      },
      "outputs": [
        {
          "output_type": "stream",
          "name": "stdout",
          "text": [
            "Accuracy of our model: 0.56\n"
          ]
        }
      ],
      "source": [
        "from sklearn import metrics\n",
        "print(\"Accuracy of our model: %.2f\" %metrics.accuracy_score(test_y, predictions))"
      ]
    },
    {
      "cell_type": "markdown",
      "metadata": {
        "id": "RGQf6Z20P-z6"
      },
      "source": [
        "Finally, let's take a look how our decision tree looks like."
      ]
    },
    {
      "cell_type": "code",
      "execution_count": 109,
      "metadata": {
        "colab": {
          "base_uri": "https://localhost:8080/",
          "height": 406
        },
        "id": "r6jpNJ9xP-z7",
        "outputId": "fd1c8931-ce8b-4a1e-855f-fbd91b040816"
      },
      "outputs": [
        {
          "output_type": "display_data",
          "data": {
            "text/plain": [
              "<Figure size 640x480 with 1 Axes>"
            ],
            "image/png": "[encoded data removed]"
          },
          "metadata": {}
        }
      ],
      "source": [
        "sklearn.tree.plot_tree(model)\n",
        "plt.show()"
      ]
    },
    {
      "cell_type": "code",
      "execution_count": 115,
      "metadata": {
        "colab": {
          "base_uri": "https://localhost:8080/"
        },
        "id": "_LEXiP5nU9cr",
        "outputId": "b53c867f-ef43-48d4-973f-0f302700a8f1"
      },
      "outputs": [
        {
          "output_type": "stream",
          "name": "stdout",
          "text": [
            "Enter patient age: 35\n",
            "Enter patient sex (M or F): M\n",
            "Enter patient blood pressure (LOW, NORMAL, or HIGH): NORMAL\n",
            "Enter patient cholesterol level (NORMAL or HIGH): NORMAL\n",
            "Enter patient sodium to potassium ratio: 2.5\n",
            "Enter drugs taken (comma separated): Simvastatin\n",
            "Prohibited drug for patient:\n",
            " NSAIDs\n"
          ]
        },
        {
          "output_type": "stream",
          "name": "stderr",
          "text": [
            "/usr/local/lib/python3.10/dist-packages/sklearn/preprocessing/_label.py:134: DataConversionWarning: A column-vector y was passed when a 1d array was expected. Please change the shape of y to (n_samples, ), for example using ravel().\n",
            "  y = column_or_1d(y, dtype=self.classes_.dtype, warn=True)\n",
            "/usr/local/lib/python3.10/dist-packages/sklearn/base.py:432: UserWarning: X has feature names, but DecisionTreeClassifier was fitted without feature names\n",
            "  warnings.warn(\n"
          ]
        }
      ],
      "source": [
        "# Take user input for a patient's attributes\n",
        "age = int(input(\"Enter patient age: \"))\n",
        "sex = input(\"Enter patient sex (M or F): \")\n",
        "bp = input(\"Enter patient blood pressure (LOW, NORMAL, or HIGH): \")\n",
        "chol = input(\"Enter patient cholesterol level (NORMAL or HIGH): \")\n",
        "na_to_k = float(input(\"Enter patient sodium to potassium ratio: \"))\n",
        "\n",
        "# Take user input for the drugs taken by the patient\n",
        "drugs_taken = input(\"Enter drugs taken (comma separated): \")\n",
        "drugs_taken = [x.strip() for x in drugs_taken.split(\",\")]\n",
        "converter_drug = sklearn.preprocessing.LabelEncoder()\n",
        "converter_drug.fit(['Aspirin', 'Hydrochlorothiazide','Lisinopril', 'Atorvastatin', 'Naproxen', 'None', 'Amlodipine','Losartan', 'Valsartan', 'Metoprolol', 'Carvedilol', 'Nifedipine', 'Simvastatin', 'Lovastatin', 'Rosuvastatin','Pravastatin', 'Ezetimibe', 'Fluvastatin'])\n",
        "\n",
        "# Define and fit transformers for non-numerical columns\n",
        "converter_sex = sklearn.preprocessing.LabelEncoder()\n",
        "converter_sex.fit(['F', 'M'])\n",
        "\n",
        "converter_bp = sklearn.preprocessing.LabelEncoder()\n",
        "converter_bp.fit(['LOW', 'NORMAL', 'HIGH'])\n",
        "\n",
        "converter_chol = sklearn.preprocessing.LabelEncoder()\n",
        "converter_chol.fit(['NORMAL', 'HIGH'])\n",
        "\n",
        "# Encode user input\n",
        "sex = converter_sex.transform([sex])[0]\n",
        "bp = converter_bp.transform([bp])[0]\n",
        "chol = converter_chol.transform([chol])[0]\n",
        "drugs_taken = converter_drug.transform([drugs_taken])[0]\n",
        "# Create input dictionary for the model\n",
        "input_dict = {\"Age\": age, \"Sex\": sex, \"BP\": bp, \"Cholesterol\": chol, \"Na_to_K\": na_to_k, \"Drugs_Taken\": drugs_taken}\n",
        "input_df = pd.DataFrame(input_dict, index=[0])\n",
        "\n",
        "# Predict the prohibited drug\n",
        "prohibited_drug = model.predict(input_df)[0]\n",
        "\n",
        "# Print drug recommendation\n",
        "print(\"Prohibited drug for patient:\\n\", prohibited_drug)\n"
      ]
    },
    {
      "cell_type": "markdown",
      "metadata": {
        "id": "eArR_TyxP-z7"
      },
      "source": [
        "## 5.CONCLUSIONS\n",
        "\n",
        "    *Since all of the predicted labels match the true labels, this model is very accurate.\n",
        "    *In problems that we can build a decision tree, this algorithm performs well.\n",
        "    *As we can see entropy converges to 0 when the tree is finalized. Leow entropy means less impurity and more predictionability.  "
      ]
    }
  ],
  "metadata": {
    "accelerator": "GPU",
    "colab": {
      "provenance": []
    },
    "gpuClass": "standard",
    "kernelspec": {
      "display_name": "levi",
      "language": "python",
      "name": "python3"
    },
    "language_info": {
      "codemirror_mode": {
        "name": "ipython",
        "version": 3
      },
      "file_extension": ".py",
      "mimetype": "text/x-python",
      "name": "python",
      "nbconvert_exporter": "python",
      "pygments_lexer": "ipython3",
      "version": "3.9.16"
    },
    "vscode": {
      "interpreter": {
        "hash": "cc74c03df4673741e93e3f8bee9b1f1dc09b6f8571c8684eac161cc53b688e0f"
      }
    }
  },
  "nbformat": 4,
  "nbformat_minor": 0
}